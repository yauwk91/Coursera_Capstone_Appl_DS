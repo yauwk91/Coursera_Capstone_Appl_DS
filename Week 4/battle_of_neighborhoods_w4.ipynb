{
 "cells": [
  {
   "cell_type": "markdown",
   "metadata": {},
   "source": [
    "# IBM DATA SCIENCE PROFESSIONAL CERTIFICATION\n",
    "## Applied Data Science Capstone Project\n",
    "### The Battle of the Neighborhoods\n",
    "\n",
    "By Yau Weng Kuan"
   ]
  },
  {
   "cell_type": "markdown",
   "metadata": {},
   "source": [
    "## Introduction\n",
    "\n",
    "![alt text](kl_night.jpg)\n",
    "\n",
    "### Background\n",
    "\n",
    "The federal territory of Kuala Lumpur is Malaysia's national capital and largest city. Kuala Lumpur is one of the three Federal Territories of Malaysia, enclaved within the state of Selangor, on the central west coast of Peninsular Malaysia. Kuala Lumpur is the major economic and business hub in the country. It is the centre for finance, insurance, real estate, media and the arts of Malaysia. According to the Globalization and World Cities Study Group and Network (GaWC), Kuala Lumpur is rated as an alpha world city, and is the only global city in Malaysia. \n",
    "\n",
    "With that, it also means the market for any business is highly competitive. Therefore in order to be successfull in starting or expanding a business in Kuala Lumpur, careful consideration is required."
   ]
  },
  {
   "cell_type": "markdown",
   "metadata": {},
   "source": [
    "### Problem Description\n",
    "\n",
    "Kuala Lumpur's heterogeneous populace includes the country's three major ethnic groups: the Malays, the Chinese and the Indians, although the city also has a mix of different local indigenous races and Eurasians. With that diverse set of cultures, rises the most diverse set of local tastes and cuisine. Kuala Lumpur is made up of several local districts, each with its own unique local F&B business conditions. Things such as the population demographics within a specific local district, local competitior restaurants and other factors such as availability of public transportation in that particular district could all play a role in determining whether its suitable to set up a specific restaurant in that location.\n",
    "\n",
    "In order to start a food and beverage (F&B) business in a particular location, there's a great need to properly understand the local F&B market and identify the opportunites. Various factors and data have to be studied to decide the suitability of a particular locale within KL for the specific category of F&B business.\n",
    "\n",
    "### Data Description\n",
    "There can be several factors that can be studied to better inform which type of F&B business is suitable for a particular local district in Kuala Lumpur. Data such as:\n",
    "1. KL City Districts Population Demographics\n",
    "2. F&B business categories distribution across districts\n",
    "3. Ratings of F&B industries in KL City Districts\n",
    "4. Any other available open data that can be obtained from the local council, Kuala Lumpur City Hall (DBKL) such as amount of car parks, distance from public transport hubs, distance to local markets, etc\n",
    "\n",
    "By doing a proper analysis of the available data, we can better answer things such as whether Malay food are more popular in districts where there's a more predominant Malay population. \n",
    "\n",
    "We also might want to identify locations where the average rating of a particular food category is low which could indicate that there isn't any stand-up restaurants that meet the general customers taste.\n",
    "\n",
    "Things like availability of parking or public transports could also play a huge role in determining the volume customers that could come to your restaurant.\n",
    "\n",
    "For a F&B business, it could also be important to be near local markets to obtain ingredients, etc."
   ]
  },
  {
   "cell_type": "markdown",
   "metadata": {},
   "source": [
    "### Target Audience\n",
    "\n",
    "By hopefully providing useful insights from any available open data to anybody hoping to set up a F&B business in Kuala Lumpur.  "
   ]
  }
 ],
 "metadata": {
  "kernelspec": {
   "display_name": "Python 3",
   "language": "python",
   "name": "python3"
  },
  "language_info": {
   "codemirror_mode": {
    "name": "ipython",
    "version": 3
   },
   "file_extension": ".py",
   "mimetype": "text/x-python",
   "name": "python",
   "nbconvert_exporter": "python",
   "pygments_lexer": "ipython3",
   "version": "3.6.8"
  }
 },
 "nbformat": 4,
 "nbformat_minor": 4
}
